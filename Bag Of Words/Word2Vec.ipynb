{
 "cells": [
  {
   "cell_type": "code",
   "execution_count": 1,
   "metadata": {},
   "outputs": [
    {
     "name": "stdout",
     "output_type": "stream",
     "text": [
      " Reading 25000 labeled reviews, 25000 test reviews, 50000 unlabeled reviews\n"
     ]
    }
   ],
   "source": [
    "import pandas as pd\n",
    "\n",
    "train = pd.read_csv('labeledTrainData.tsv', header=0, delimiter='\\t', quoting=3)\n",
    "test = pd.read_csv('testData.tsv', header=0, delimiter='\\t', quoting=3)\n",
    "unlabeled_train = pd.read_csv('unlabeledTrainData.tsv', header=0, delimiter='\\t', quoting=3)\n",
    "\n",
    "print (\" Reading {} labeled reviews, {} test reviews, {} unlabeled reviews\".format(train[\"review\"].size, test[\"review\"].size, unlabeled_train[\"review\"].size))"
   ]
  },
  {
   "cell_type": "code",
   "execution_count": 2,
   "metadata": {},
   "outputs": [],
   "source": [
    "from bs4 import BeautifulSoup\n",
    "import re\n",
    "from nltk.corpus import stopwords\n",
    "\n",
    "def review_to_wordlist( review, remove_stopwords=False ):\n",
    "\n",
    "    review_text = BeautifulSoup(review).get_text()\n",
    "\n",
    "    review_text = re.sub(\"[^a-zA-Z]\",\" \", review_text)\n",
    "\n",
    "    words = review_text.lower().split()\n",
    "\n",
    "    return(words)"
   ]
  },
  {
   "cell_type": "code",
   "execution_count": 3,
   "metadata": {},
   "outputs": [
    {
     "name": "stdout",
     "output_type": "stream",
     "text": [
      "[nltk_data] Downloading package punkt to /home/rahul/nltk_data...\n",
      "[nltk_data]   Unzipping tokenizers/punkt.zip.\n"
     ]
    },
    {
     "data": {
      "text/plain": [
       "True"
      ]
     },
     "execution_count": 3,
     "metadata": {},
     "output_type": "execute_result"
    }
   ],
   "source": [
    "import nltk.data\n",
    "nltk.download('punkt')"
   ]
  },
  {
   "cell_type": "code",
   "execution_count": 4,
   "metadata": {},
   "outputs": [],
   "source": [
    "tokenizer = nltk.data.load('tokenizers/punkt/english.pickle')"
   ]
  },
  {
   "cell_type": "code",
   "execution_count": 8,
   "metadata": {},
   "outputs": [],
   "source": [
    "def review_to_sentences(review, tokenizer, remove_stopwords=False):\n",
    "    raw_sentences = tokenizer.tokenize(review.strip())\n",
    "    sentences = []\n",
    "    for raw_sentence in raw_sentences:\n",
    "        if len(raw_sentence)>0:\n",
    "            sentences.append(review_to_wordlist(raw_sentence, remove_stopwords))\n",
    "    \n",
    "    return sentences"
   ]
  },
  {
   "cell_type": "code",
   "execution_count": 9,
   "metadata": {},
   "outputs": [
    {
     "name": "stdout",
     "output_type": "stream",
     "text": [
      "Parsing sentences from training set\n"
     ]
    },
    {
     "name": "stderr",
     "output_type": "stream",
     "text": [
      "/home/rahul/.local/lib/python3.6/site-packages/bs4/__init__.py:273: UserWarning: \"b'.'\" looks like a filename, not markup. You should probably open this file and pass the filehandle into Beautiful Soup.\n",
      "  ' Beautiful Soup.' % markup)\n",
      "/home/rahul/.local/lib/python3.6/site-packages/bs4/__init__.py:336: UserWarning: \"http://www.happierabroad.com\"\" looks like a URL. Beautiful Soup is not an HTTP client. You should probably use an HTTP client like requests to get the document behind the URL, and feed that document to Beautiful Soup.\n",
      "  ' that document to Beautiful Soup.' % decoded_markup\n"
     ]
    },
    {
     "name": "stdout",
     "output_type": "stream",
     "text": [
      "Parsing sentences from unlabeled data\n"
     ]
    },
    {
     "name": "stderr",
     "output_type": "stream",
     "text": [
      "/home/rahul/.local/lib/python3.6/site-packages/bs4/__init__.py:336: UserWarning: \"http://www.archive.org/details/LovefromaStranger\"\" looks like a URL. Beautiful Soup is not an HTTP client. You should probably use an HTTP client like requests to get the document behind the URL, and feed that document to Beautiful Soup.\n",
      "  ' that document to Beautiful Soup.' % decoded_markup\n",
      "/home/rahul/.local/lib/python3.6/site-packages/bs4/__init__.py:336: UserWarning: \"http://www.loosechangeguide.com/LooseChangeGuide.html\"\" looks like a URL. Beautiful Soup is not an HTTP client. You should probably use an HTTP client like requests to get the document behind the URL, and feed that document to Beautiful Soup.\n",
      "  ' that document to Beautiful Soup.' % decoded_markup\n",
      "/home/rahul/.local/lib/python3.6/site-packages/bs4/__init__.py:336: UserWarning: \"http://www.msnbc.msn.com/id/4972055/site/newsweek/\"\" looks like a URL. Beautiful Soup is not an HTTP client. You should probably use an HTTP client like requests to get the document behind the URL, and feed that document to Beautiful Soup.\n",
      "  ' that document to Beautiful Soup.' % decoded_markup\n",
      "/home/rahul/.local/lib/python3.6/site-packages/bs4/__init__.py:273: UserWarning: \"b'..'\" looks like a filename, not markup. You should probably open this file and pass the filehandle into Beautiful Soup.\n",
      "  ' Beautiful Soup.' % markup)\n",
      "/home/rahul/.local/lib/python3.6/site-packages/bs4/__init__.py:336: UserWarning: \"http://www.youtube.com/watch?v=a0KSqelmgN8\"\" looks like a URL. Beautiful Soup is not an HTTP client. You should probably use an HTTP client like requests to get the document behind the URL, and feed that document to Beautiful Soup.\n",
      "  ' that document to Beautiful Soup.' % decoded_markup\n",
      "/home/rahul/.local/lib/python3.6/site-packages/bs4/__init__.py:336: UserWarning: \"http://jake-weird.blogspot.com/2007/08/beneath.html\"\" looks like a URL. Beautiful Soup is not an HTTP client. You should probably use an HTTP client like requests to get the document behind the URL, and feed that document to Beautiful Soup.\n",
      "  ' that document to Beautiful Soup.' % decoded_markup\n"
     ]
    }
   ],
   "source": [
    "sentences = []\n",
    "\n",
    "print(\"Parsing sentences from training set\")\n",
    "for review in train[\"review\"]:\n",
    "    sentences += review_to_sentences(review, tokenizer)\n",
    "\n",
    "print(\"Parsing sentences from unlabeled data\")\n",
    "for review in unlabeled_train[\"review\"]:\n",
    "    sentences += review_to_sentences(review, tokenizer)\n",
    "    \n"
   ]
  },
  {
   "cell_type": "code",
   "execution_count": 10,
   "metadata": {},
   "outputs": [
    {
     "name": "stdout",
     "output_type": "stream",
     "text": [
      "795538\n"
     ]
    }
   ],
   "source": [
    "print(len(sentences))"
   ]
  },
  {
   "cell_type": "code",
   "execution_count": 12,
   "metadata": {},
   "outputs": [
    {
     "name": "stdout",
     "output_type": "stream",
     "text": [
      "['with', 'all', 'this', 'stuff', 'going', 'down', 'at', 'the', 'moment', 'with', 'mj', 'i', 've', 'started', 'listening', 'to', 'his', 'music', 'watching', 'the', 'odd', 'documentary', 'here', 'and', 'there', 'watched', 'the', 'wiz', 'and', 'watched', 'moonwalker', 'again']\n"
     ]
    }
   ],
   "source": [
    "print(sentences[0])"
   ]
  },
  {
   "cell_type": "code",
   "execution_count": 14,
   "metadata": {},
   "outputs": [
    {
     "name": "stderr",
     "output_type": "stream",
     "text": [
      "2018-10-26 16:11:47,689 : INFO : collecting all words and their counts\n",
      "2018-10-26 16:11:47,690 : INFO : PROGRESS: at sentence #0, processed 0 words, keeping 0 word types\n",
      "2018-10-26 16:11:47,760 : INFO : PROGRESS: at sentence #10000, processed 225803 words, keeping 17776 word types\n",
      "2018-10-26 16:11:47,824 : INFO : PROGRESS: at sentence #20000, processed 451892 words, keeping 24948 word types\n",
      "2018-10-26 16:11:47,881 : INFO : PROGRESS: at sentence #30000, processed 671315 words, keeping 30034 word types\n"
     ]
    },
    {
     "name": "stdout",
     "output_type": "stream",
     "text": [
      "Training model...\n"
     ]
    },
    {
     "name": "stderr",
     "output_type": "stream",
     "text": [
      "2018-10-26 16:11:47,941 : INFO : PROGRESS: at sentence #40000, processed 897815 words, keeping 34348 word types\n",
      "2018-10-26 16:11:48,015 : INFO : PROGRESS: at sentence #50000, processed 1116963 words, keeping 37761 word types\n",
      "2018-10-26 16:11:48,074 : INFO : PROGRESS: at sentence #60000, processed 1338404 words, keeping 40723 word types\n",
      "2018-10-26 16:11:48,132 : INFO : PROGRESS: at sentence #70000, processed 1561580 words, keeping 43333 word types\n",
      "2018-10-26 16:11:48,196 : INFO : PROGRESS: at sentence #80000, processed 1780887 words, keeping 45714 word types\n",
      "2018-10-26 16:11:48,254 : INFO : PROGRESS: at sentence #90000, processed 2004996 words, keeping 48135 word types\n",
      "2018-10-26 16:11:48,314 : INFO : PROGRESS: at sentence #100000, processed 2226966 words, keeping 50207 word types\n",
      "2018-10-26 16:11:48,374 : INFO : PROGRESS: at sentence #110000, processed 2446580 words, keeping 52081 word types\n",
      "2018-10-26 16:11:48,439 : INFO : PROGRESS: at sentence #120000, processed 2668775 words, keeping 54119 word types\n",
      "2018-10-26 16:11:48,497 : INFO : PROGRESS: at sentence #130000, processed 2894303 words, keeping 55847 word types\n",
      "2018-10-26 16:11:48,558 : INFO : PROGRESS: at sentence #140000, processed 3107005 words, keeping 57346 word types\n",
      "2018-10-26 16:11:48,618 : INFO : PROGRESS: at sentence #150000, processed 3332627 words, keeping 59055 word types\n",
      "2018-10-26 16:11:48,677 : INFO : PROGRESS: at sentence #160000, processed 3555315 words, keeping 60617 word types\n",
      "2018-10-26 16:11:48,744 : INFO : PROGRESS: at sentence #170000, processed 3778655 words, keeping 62077 word types\n",
      "2018-10-26 16:11:48,806 : INFO : PROGRESS: at sentence #180000, processed 3999236 words, keeping 63496 word types\n",
      "2018-10-26 16:11:48,874 : INFO : PROGRESS: at sentence #190000, processed 4224449 words, keeping 64794 word types\n",
      "2018-10-26 16:11:48,936 : INFO : PROGRESS: at sentence #200000, processed 4448603 words, keeping 66087 word types\n",
      "2018-10-26 16:11:48,995 : INFO : PROGRESS: at sentence #210000, processed 4669967 words, keeping 67390 word types\n",
      "2018-10-26 16:11:49,056 : INFO : PROGRESS: at sentence #220000, processed 4894968 words, keeping 68697 word types\n",
      "2018-10-26 16:11:49,116 : INFO : PROGRESS: at sentence #230000, processed 5117545 words, keeping 69958 word types\n",
      "2018-10-26 16:11:49,178 : INFO : PROGRESS: at sentence #240000, processed 5345050 words, keeping 71167 word types\n",
      "2018-10-26 16:11:49,240 : INFO : PROGRESS: at sentence #250000, processed 5559165 words, keeping 72351 word types\n",
      "2018-10-26 16:11:49,299 : INFO : PROGRESS: at sentence #260000, processed 5779146 words, keeping 73478 word types\n",
      "2018-10-26 16:11:49,373 : INFO : PROGRESS: at sentence #270000, processed 6000435 words, keeping 74767 word types\n",
      "2018-10-26 16:11:49,435 : INFO : PROGRESS: at sentence #280000, processed 6226314 words, keeping 76369 word types\n",
      "2018-10-26 16:11:49,498 : INFO : PROGRESS: at sentence #290000, processed 6449474 words, keeping 77839 word types\n",
      "2018-10-26 16:11:49,561 : INFO : PROGRESS: at sentence #300000, processed 6674077 words, keeping 79171 word types\n",
      "2018-10-26 16:11:49,626 : INFO : PROGRESS: at sentence #310000, processed 6899391 words, keeping 80480 word types\n",
      "2018-10-26 16:11:49,688 : INFO : PROGRESS: at sentence #320000, processed 7124278 words, keeping 81808 word types\n",
      "2018-10-26 16:11:49,750 : INFO : PROGRESS: at sentence #330000, processed 7346021 words, keeping 83030 word types\n",
      "2018-10-26 16:11:49,813 : INFO : PROGRESS: at sentence #340000, processed 7575533 words, keeping 84280 word types\n",
      "2018-10-26 16:11:49,878 : INFO : PROGRESS: at sentence #350000, processed 7798803 words, keeping 85425 word types\n",
      "2018-10-26 16:11:49,941 : INFO : PROGRESS: at sentence #360000, processed 8019427 words, keeping 86596 word types\n",
      "2018-10-26 16:11:50,007 : INFO : PROGRESS: at sentence #370000, processed 8246619 words, keeping 87708 word types\n",
      "2018-10-26 16:11:50,068 : INFO : PROGRESS: at sentence #380000, processed 8471766 words, keeping 88878 word types\n",
      "2018-10-26 16:11:50,133 : INFO : PROGRESS: at sentence #390000, processed 8701497 words, keeping 89907 word types\n",
      "2018-10-26 16:11:50,195 : INFO : PROGRESS: at sentence #400000, processed 8924446 words, keeping 90916 word types\n",
      "2018-10-26 16:11:50,259 : INFO : PROGRESS: at sentence #410000, processed 9145796 words, keeping 91880 word types\n",
      "2018-10-26 16:11:50,321 : INFO : PROGRESS: at sentence #420000, processed 9366876 words, keeping 92912 word types\n",
      "2018-10-26 16:11:50,382 : INFO : PROGRESS: at sentence #430000, processed 9594413 words, keeping 93932 word types\n",
      "2018-10-26 16:11:50,450 : INFO : PROGRESS: at sentence #440000, processed 9821166 words, keeping 94906 word types\n",
      "2018-10-26 16:11:50,516 : INFO : PROGRESS: at sentence #450000, processed 10044928 words, keeping 96036 word types\n",
      "2018-10-26 16:11:50,584 : INFO : PROGRESS: at sentence #460000, processed 10277688 words, keeping 97088 word types\n",
      "2018-10-26 16:11:50,645 : INFO : PROGRESS: at sentence #470000, processed 10505613 words, keeping 97933 word types\n",
      "2018-10-26 16:11:50,714 : INFO : PROGRESS: at sentence #480000, processed 10725997 words, keeping 98862 word types\n",
      "2018-10-26 16:11:50,788 : INFO : PROGRESS: at sentence #490000, processed 10952741 words, keeping 99871 word types\n",
      "2018-10-26 16:11:50,852 : INFO : PROGRESS: at sentence #500000, processed 11174397 words, keeping 100765 word types\n",
      "2018-10-26 16:11:50,919 : INFO : PROGRESS: at sentence #510000, processed 11399672 words, keeping 101699 word types\n",
      "2018-10-26 16:11:50,982 : INFO : PROGRESS: at sentence #520000, processed 11623020 words, keeping 102598 word types\n",
      "2018-10-26 16:11:51,042 : INFO : PROGRESS: at sentence #530000, processed 11847418 words, keeping 103400 word types\n",
      "2018-10-26 16:11:51,108 : INFO : PROGRESS: at sentence #540000, processed 12072033 words, keeping 104265 word types\n",
      "2018-10-26 16:11:51,170 : INFO : PROGRESS: at sentence #550000, processed 12297571 words, keeping 105133 word types\n",
      "2018-10-26 16:11:51,232 : INFO : PROGRESS: at sentence #560000, processed 12518861 words, keeping 105997 word types\n",
      "2018-10-26 16:11:51,296 : INFO : PROGRESS: at sentence #570000, processed 12747916 words, keeping 106787 word types\n",
      "2018-10-26 16:11:51,356 : INFO : PROGRESS: at sentence #580000, processed 12969412 words, keeping 107665 word types\n",
      "2018-10-26 16:11:51,418 : INFO : PROGRESS: at sentence #590000, processed 13194937 words, keeping 108501 word types\n",
      "2018-10-26 16:11:51,478 : INFO : PROGRESS: at sentence #600000, processed 13417135 words, keeping 109218 word types\n",
      "2018-10-26 16:11:51,539 : INFO : PROGRESS: at sentence #610000, processed 13638158 words, keeping 110092 word types\n",
      "2018-10-26 16:11:51,601 : INFO : PROGRESS: at sentence #620000, processed 13864483 words, keeping 110837 word types\n",
      "2018-10-26 16:11:51,663 : INFO : PROGRESS: at sentence #630000, processed 14088769 words, keeping 111610 word types\n",
      "2018-10-26 16:11:51,727 : INFO : PROGRESS: at sentence #640000, processed 14309552 words, keeping 112416 word types\n",
      "2018-10-26 16:11:51,789 : INFO : PROGRESS: at sentence #650000, processed 14535308 words, keeping 113196 word types\n",
      "2018-10-26 16:11:51,851 : INFO : PROGRESS: at sentence #660000, processed 14758098 words, keeping 113945 word types\n",
      "2018-10-26 16:11:51,912 : INFO : PROGRESS: at sentence #670000, processed 14981482 words, keeping 114643 word types\n",
      "2018-10-26 16:11:51,971 : INFO : PROGRESS: at sentence #680000, processed 15206314 words, keeping 115354 word types\n",
      "2018-10-26 16:11:52,035 : INFO : PROGRESS: at sentence #690000, processed 15428507 words, keeping 116131 word types\n",
      "2018-10-26 16:11:52,100 : INFO : PROGRESS: at sentence #700000, processed 15657213 words, keeping 116943 word types\n",
      "2018-10-26 16:11:52,163 : INFO : PROGRESS: at sentence #710000, processed 15880202 words, keeping 117596 word types\n",
      "2018-10-26 16:11:52,227 : INFO : PROGRESS: at sentence #720000, processed 16105489 words, keeping 118221 word types\n",
      "2018-10-26 16:11:52,288 : INFO : PROGRESS: at sentence #730000, processed 16331870 words, keeping 118954 word types\n",
      "2018-10-26 16:11:52,351 : INFO : PROGRESS: at sentence #740000, processed 16552903 words, keeping 119668 word types\n",
      "2018-10-26 16:11:52,414 : INFO : PROGRESS: at sentence #750000, processed 16771230 words, keeping 120295 word types\n"
     ]
    },
    {
     "name": "stderr",
     "output_type": "stream",
     "text": [
      "2018-10-26 16:11:52,471 : INFO : PROGRESS: at sentence #760000, processed 16990622 words, keeping 120930 word types\n",
      "2018-10-26 16:11:52,537 : INFO : PROGRESS: at sentence #770000, processed 17217759 words, keeping 121703 word types\n",
      "2018-10-26 16:11:52,601 : INFO : PROGRESS: at sentence #780000, processed 17447905 words, keeping 122402 word types\n",
      "2018-10-26 16:11:52,662 : INFO : PROGRESS: at sentence #790000, processed 17674981 words, keeping 123066 word types\n",
      "2018-10-26 16:11:52,696 : INFO : collected 123504 word types from a corpus of 17798082 raw words and 795538 sentences\n",
      "2018-10-26 16:11:52,696 : INFO : Loading a fresh vocabulary\n",
      "2018-10-26 16:11:52,787 : INFO : effective_min_count=40 retains 16490 unique words (13% of original 123504, drops 107014)\n",
      "2018-10-26 16:11:52,788 : INFO : effective_min_count=40 leaves 17238940 word corpus (96% of original 17798082, drops 559142)\n",
      "2018-10-26 16:11:52,846 : INFO : deleting the raw counts dictionary of 123504 items\n",
      "2018-10-26 16:11:52,851 : INFO : sample=0.001 downsamples 48 most-common words\n",
      "2018-10-26 16:11:52,852 : INFO : downsampling leaves estimated 12749658 word corpus (74.0% of prior 17238940)\n",
      "2018-10-26 16:11:52,916 : INFO : estimated required memory for 16490 words and 300 dimensions: 47821000 bytes\n",
      "2018-10-26 16:11:52,916 : INFO : resetting layer weights\n",
      "2018-10-26 16:11:53,198 : INFO : training model with 4 workers on 16490 vocabulary and 300 features, using sg=0 hs=0 sample=0.001 negative=5 window=10\n",
      "2018-10-26 16:11:54,211 : INFO : EPOCH 1 - PROGRESS: at 3.81% examples, 483610 words/s, in_qsize 7, out_qsize 0\n",
      "2018-10-26 16:11:55,233 : INFO : EPOCH 1 - PROGRESS: at 8.00% examples, 500501 words/s, in_qsize 7, out_qsize 0\n",
      "2018-10-26 16:11:56,240 : INFO : EPOCH 1 - PROGRESS: at 12.12% examples, 506509 words/s, in_qsize 6, out_qsize 1\n",
      "2018-10-26 16:11:57,241 : INFO : EPOCH 1 - PROGRESS: at 16.17% examples, 508602 words/s, in_qsize 7, out_qsize 0\n",
      "2018-10-26 16:11:58,254 : INFO : EPOCH 1 - PROGRESS: at 20.22% examples, 506969 words/s, in_qsize 7, out_qsize 0\n",
      "2018-10-26 16:11:59,267 : INFO : EPOCH 1 - PROGRESS: at 23.76% examples, 496578 words/s, in_qsize 7, out_qsize 0\n",
      "2018-10-26 16:12:00,298 : INFO : EPOCH 1 - PROGRESS: at 27.25% examples, 486877 words/s, in_qsize 6, out_qsize 1\n",
      "2018-10-26 16:12:01,308 : INFO : EPOCH 1 - PROGRESS: at 30.50% examples, 477391 words/s, in_qsize 6, out_qsize 1\n",
      "2018-10-26 16:12:02,317 : INFO : EPOCH 1 - PROGRESS: at 34.33% examples, 477093 words/s, in_qsize 7, out_qsize 0\n",
      "2018-10-26 16:12:03,324 : INFO : EPOCH 1 - PROGRESS: at 38.06% examples, 476945 words/s, in_qsize 7, out_qsize 0\n",
      "2018-10-26 16:12:04,353 : INFO : EPOCH 1 - PROGRESS: at 41.59% examples, 473365 words/s, in_qsize 7, out_qsize 0\n",
      "2018-10-26 16:12:05,357 : INFO : EPOCH 1 - PROGRESS: at 45.40% examples, 474258 words/s, in_qsize 7, out_qsize 0\n",
      "2018-10-26 16:12:06,363 : INFO : EPOCH 1 - PROGRESS: at 49.21% examples, 475512 words/s, in_qsize 7, out_qsize 0\n",
      "2018-10-26 16:12:07,366 : INFO : EPOCH 1 - PROGRESS: at 53.10% examples, 476688 words/s, in_qsize 7, out_qsize 0\n",
      "2018-10-26 16:12:08,376 : INFO : EPOCH 1 - PROGRESS: at 56.44% examples, 473189 words/s, in_qsize 6, out_qsize 1\n",
      "2018-10-26 16:12:09,376 : INFO : EPOCH 1 - PROGRESS: at 60.31% examples, 474896 words/s, in_qsize 7, out_qsize 0\n",
      "2018-10-26 16:12:10,376 : INFO : EPOCH 1 - PROGRESS: at 63.67% examples, 472229 words/s, in_qsize 6, out_qsize 1\n",
      "2018-10-26 16:12:11,392 : INFO : EPOCH 1 - PROGRESS: at 67.23% examples, 471025 words/s, in_qsize 7, out_qsize 0\n",
      "2018-10-26 16:12:12,401 : INFO : EPOCH 1 - PROGRESS: at 70.60% examples, 468634 words/s, in_qsize 8, out_qsize 0\n",
      "2018-10-26 16:12:13,408 : INFO : EPOCH 1 - PROGRESS: at 74.01% examples, 466874 words/s, in_qsize 7, out_qsize 0\n",
      "2018-10-26 16:12:14,413 : INFO : EPOCH 1 - PROGRESS: at 77.89% examples, 468016 words/s, in_qsize 7, out_qsize 0\n",
      "2018-10-26 16:12:15,416 : INFO : EPOCH 1 - PROGRESS: at 81.87% examples, 469729 words/s, in_qsize 7, out_qsize 0\n",
      "2018-10-26 16:12:16,434 : INFO : EPOCH 1 - PROGRESS: at 85.74% examples, 470409 words/s, in_qsize 8, out_qsize 1\n",
      "2018-10-26 16:12:17,463 : INFO : EPOCH 1 - PROGRESS: at 89.68% examples, 471359 words/s, in_qsize 6, out_qsize 1\n",
      "2018-10-26 16:12:18,483 : INFO : EPOCH 1 - PROGRESS: at 93.80% examples, 472986 words/s, in_qsize 7, out_qsize 0\n",
      "2018-10-26 16:12:19,491 : INFO : EPOCH 1 - PROGRESS: at 97.62% examples, 473344 words/s, in_qsize 7, out_qsize 0\n",
      "2018-10-26 16:12:20,164 : INFO : worker thread finished; awaiting finish of 3 more threads\n",
      "2018-10-26 16:12:20,166 : INFO : worker thread finished; awaiting finish of 2 more threads\n",
      "2018-10-26 16:12:20,183 : INFO : worker thread finished; awaiting finish of 1 more threads\n",
      "2018-10-26 16:12:20,203 : INFO : worker thread finished; awaiting finish of 0 more threads\n",
      "2018-10-26 16:12:20,205 : INFO : EPOCH - 1 : training on 17798082 raw words (12749616 effective words) took 27.0s, 472218 effective words/s\n",
      "2018-10-26 16:12:21,223 : INFO : EPOCH 2 - PROGRESS: at 3.25% examples, 410825 words/s, in_qsize 7, out_qsize 0\n",
      "2018-10-26 16:12:22,228 : INFO : EPOCH 2 - PROGRESS: at 7.02% examples, 443436 words/s, in_qsize 7, out_qsize 0\n",
      "2018-10-26 16:12:23,261 : INFO : EPOCH 2 - PROGRESS: at 10.70% examples, 445685 words/s, in_qsize 7, out_qsize 0\n",
      "2018-10-26 16:12:24,261 : INFO : EPOCH 2 - PROGRESS: at 14.39% examples, 450559 words/s, in_qsize 7, out_qsize 0\n",
      "2018-10-26 16:12:25,277 : INFO : EPOCH 2 - PROGRESS: at 18.25% examples, 456124 words/s, in_qsize 7, out_qsize 0\n",
      "2018-10-26 16:12:26,295 : INFO : EPOCH 2 - PROGRESS: at 22.08% examples, 459821 words/s, in_qsize 8, out_qsize 2\n",
      "2018-10-26 16:12:27,304 : INFO : EPOCH 2 - PROGRESS: at 25.97% examples, 463963 words/s, in_qsize 7, out_qsize 0\n",
      "2018-10-26 16:12:28,314 : INFO : EPOCH 2 - PROGRESS: at 29.93% examples, 468687 words/s, in_qsize 7, out_qsize 0\n",
      "2018-10-26 16:12:29,316 : INFO : EPOCH 2 - PROGRESS: at 33.93% examples, 472034 words/s, in_qsize 6, out_qsize 1\n",
      "2018-10-26 16:12:30,329 : INFO : EPOCH 2 - PROGRESS: at 37.95% examples, 475707 words/s, in_qsize 7, out_qsize 0\n",
      "2018-10-26 16:12:31,334 : INFO : EPOCH 2 - PROGRESS: at 42.08% examples, 480306 words/s, in_qsize 7, out_qsize 0\n",
      "2018-10-26 16:12:32,343 : INFO : EPOCH 2 - PROGRESS: at 46.11% examples, 482775 words/s, in_qsize 7, out_qsize 0\n",
      "2018-10-26 16:12:33,344 : INFO : EPOCH 2 - PROGRESS: at 49.82% examples, 482494 words/s, in_qsize 7, out_qsize 0\n",
      "2018-10-26 16:12:34,365 : INFO : EPOCH 2 - PROGRESS: at 53.67% examples, 482039 words/s, in_qsize 7, out_qsize 0\n",
      "2018-10-26 16:12:35,371 : INFO : EPOCH 2 - PROGRESS: at 57.47% examples, 482548 words/s, in_qsize 7, out_qsize 0\n",
      "2018-10-26 16:12:36,377 : INFO : EPOCH 2 - PROGRESS: at 61.02% examples, 480821 words/s, in_qsize 7, out_qsize 0\n",
      "2018-10-26 16:12:37,400 : INFO : EPOCH 2 - PROGRESS: at 64.95% examples, 481323 words/s, in_qsize 7, out_qsize 0\n",
      "2018-10-26 16:12:38,408 : INFO : EPOCH 2 - PROGRESS: at 68.83% examples, 481786 words/s, in_qsize 8, out_qsize 2\n",
      "2018-10-26 16:12:39,412 : INFO : EPOCH 2 - PROGRESS: at 72.72% examples, 482661 words/s, in_qsize 8, out_qsize 1\n",
      "2018-10-26 16:12:40,421 : INFO : EPOCH 2 - PROGRESS: at 76.72% examples, 483691 words/s, in_qsize 7, out_qsize 0\n",
      "2018-10-26 16:12:41,456 : INFO : EPOCH 2 - PROGRESS: at 80.42% examples, 482348 words/s, in_qsize 7, out_qsize 0\n",
      "2018-10-26 16:12:42,470 : INFO : EPOCH 2 - PROGRESS: at 84.23% examples, 482233 words/s, in_qsize 8, out_qsize 0\n",
      "2018-10-26 16:12:43,488 : INFO : EPOCH 2 - PROGRESS: at 87.96% examples, 481744 words/s, in_qsize 7, out_qsize 0\n",
      "2018-10-26 16:12:44,489 : INFO : EPOCH 2 - PROGRESS: at 91.92% examples, 482796 words/s, in_qsize 7, out_qsize 0\n",
      "2018-10-26 16:12:45,501 : INFO : EPOCH 2 - PROGRESS: at 95.81% examples, 482709 words/s, in_qsize 8, out_qsize 2\n",
      "2018-10-26 16:12:46,514 : INFO : EPOCH 2 - PROGRESS: at 99.66% examples, 483159 words/s, in_qsize 5, out_qsize 1\n",
      "2018-10-26 16:12:46,539 : INFO : worker thread finished; awaiting finish of 3 more threads\n",
      "2018-10-26 16:12:46,567 : INFO : worker thread finished; awaiting finish of 2 more threads\n",
      "2018-10-26 16:12:46,573 : INFO : worker thread finished; awaiting finish of 1 more threads\n",
      "2018-10-26 16:12:46,577 : INFO : worker thread finished; awaiting finish of 0 more threads\n"
     ]
    },
    {
     "name": "stderr",
     "output_type": "stream",
     "text": [
      "2018-10-26 16:12:46,578 : INFO : EPOCH - 2 : training on 17798082 raw words (12750380 effective words) took 26.4s, 483594 effective words/s\n",
      "2018-10-26 16:12:47,615 : INFO : EPOCH 3 - PROGRESS: at 3.81% examples, 472749 words/s, in_qsize 6, out_qsize 1\n",
      "2018-10-26 16:12:48,655 : INFO : EPOCH 3 - PROGRESS: at 7.88% examples, 483752 words/s, in_qsize 8, out_qsize 2\n",
      "2018-10-26 16:12:49,668 : INFO : EPOCH 3 - PROGRESS: at 11.95% examples, 491995 words/s, in_qsize 7, out_qsize 0\n",
      "2018-10-26 16:12:50,683 : INFO : EPOCH 3 - PROGRESS: at 15.84% examples, 490716 words/s, in_qsize 6, out_qsize 1\n",
      "2018-10-26 16:12:51,703 : INFO : EPOCH 3 - PROGRESS: at 19.71% examples, 487813 words/s, in_qsize 7, out_qsize 0\n",
      "2018-10-26 16:12:52,720 : INFO : EPOCH 3 - PROGRESS: at 23.21% examples, 479350 words/s, in_qsize 7, out_qsize 0\n",
      "2018-10-26 16:12:53,724 : INFO : EPOCH 3 - PROGRESS: at 27.36% examples, 485984 words/s, in_qsize 7, out_qsize 0\n",
      "2018-10-26 16:12:54,731 : INFO : EPOCH 3 - PROGRESS: at 31.20% examples, 485540 words/s, in_qsize 8, out_qsize 1\n",
      "2018-10-26 16:12:55,747 : INFO : EPOCH 3 - PROGRESS: at 35.05% examples, 484688 words/s, in_qsize 7, out_qsize 0\n",
      "2018-10-26 16:12:56,762 : INFO : EPOCH 3 - PROGRESS: at 38.73% examples, 482752 words/s, in_qsize 7, out_qsize 0\n",
      "2018-10-26 16:12:57,775 : INFO : EPOCH 3 - PROGRESS: at 42.47% examples, 481904 words/s, in_qsize 7, out_qsize 0\n",
      "2018-10-26 16:12:58,790 : INFO : EPOCH 3 - PROGRESS: at 46.50% examples, 484034 words/s, in_qsize 7, out_qsize 0\n",
      "2018-10-26 16:12:59,800 : INFO : EPOCH 3 - PROGRESS: at 50.16% examples, 482774 words/s, in_qsize 8, out_qsize 0\n",
      "2018-10-26 16:13:00,807 : INFO : EPOCH 3 - PROGRESS: at 53.77% examples, 480783 words/s, in_qsize 7, out_qsize 0\n",
      "2018-10-26 16:13:01,809 : INFO : EPOCH 3 - PROGRESS: at 57.52% examples, 481024 words/s, in_qsize 6, out_qsize 1\n",
      "2018-10-26 16:13:02,818 : INFO : EPOCH 3 - PROGRESS: at 61.13% examples, 479733 words/s, in_qsize 7, out_qsize 0\n",
      "2018-10-26 16:13:03,825 : INFO : EPOCH 3 - PROGRESS: at 64.73% examples, 478283 words/s, in_qsize 7, out_qsize 0\n",
      "2018-10-26 16:13:04,838 : INFO : EPOCH 3 - PROGRESS: at 68.38% examples, 477219 words/s, in_qsize 7, out_qsize 0\n",
      "2018-10-26 16:13:05,856 : INFO : EPOCH 3 - PROGRESS: at 72.09% examples, 476870 words/s, in_qsize 7, out_qsize 0\n",
      "2018-10-26 16:13:06,862 : INFO : EPOCH 3 - PROGRESS: at 75.59% examples, 475116 words/s, in_qsize 7, out_qsize 0\n",
      "2018-10-26 16:13:07,878 : INFO : EPOCH 3 - PROGRESS: at 79.46% examples, 475614 words/s, in_qsize 7, out_qsize 0\n",
      "2018-10-26 16:13:08,890 : INFO : EPOCH 3 - PROGRESS: at 83.39% examples, 476491 words/s, in_qsize 7, out_qsize 0\n",
      "2018-10-26 16:13:09,897 : INFO : EPOCH 3 - PROGRESS: at 86.86% examples, 474918 words/s, in_qsize 8, out_qsize 1\n",
      "2018-10-26 16:13:10,900 : INFO : EPOCH 3 - PROGRESS: at 90.24% examples, 473269 words/s, in_qsize 7, out_qsize 0\n",
      "2018-10-26 16:13:11,906 : INFO : EPOCH 3 - PROGRESS: at 94.15% examples, 473946 words/s, in_qsize 7, out_qsize 0\n",
      "2018-10-26 16:13:12,920 : INFO : EPOCH 3 - PROGRESS: at 98.11% examples, 474986 words/s, in_qsize 7, out_qsize 0\n",
      "2018-10-26 16:13:13,490 : INFO : worker thread finished; awaiting finish of 3 more threads\n",
      "2018-10-26 16:13:13,503 : INFO : worker thread finished; awaiting finish of 2 more threads\n",
      "2018-10-26 16:13:13,525 : INFO : worker thread finished; awaiting finish of 1 more threads\n",
      "2018-10-26 16:13:13,530 : INFO : worker thread finished; awaiting finish of 0 more threads\n",
      "2018-10-26 16:13:13,531 : INFO : EPOCH - 3 : training on 17798082 raw words (12751525 effective words) took 26.9s, 473229 effective words/s\n",
      "2018-10-26 16:13:14,575 : INFO : EPOCH 4 - PROGRESS: at 3.36% examples, 415919 words/s, in_qsize 7, out_qsize 0\n",
      "2018-10-26 16:13:15,588 : INFO : EPOCH 4 - PROGRESS: at 7.02% examples, 437034 words/s, in_qsize 7, out_qsize 0\n",
      "2018-10-26 16:13:16,615 : INFO : EPOCH 4 - PROGRESS: at 10.98% examples, 453994 words/s, in_qsize 7, out_qsize 0\n",
      "2018-10-26 16:13:17,616 : INFO : EPOCH 4 - PROGRESS: at 15.01% examples, 467150 words/s, in_qsize 8, out_qsize 0\n",
      "2018-10-26 16:13:18,624 : INFO : EPOCH 4 - PROGRESS: at 18.87% examples, 470222 words/s, in_qsize 6, out_qsize 1\n",
      "2018-10-26 16:13:19,631 : INFO : EPOCH 4 - PROGRESS: at 22.76% examples, 473604 words/s, in_qsize 7, out_qsize 0\n",
      "2018-10-26 16:13:20,633 : INFO : EPOCH 4 - PROGRESS: at 26.75% examples, 478209 words/s, in_qsize 7, out_qsize 0\n",
      "2018-10-26 16:13:21,644 : INFO : EPOCH 4 - PROGRESS: at 30.55% examples, 478491 words/s, in_qsize 7, out_qsize 0\n",
      "2018-10-26 16:13:22,661 : INFO : EPOCH 4 - PROGRESS: at 34.70% examples, 482349 words/s, in_qsize 7, out_qsize 0\n",
      "2018-10-26 16:13:23,690 : INFO : EPOCH 4 - PROGRESS: at 38.73% examples, 484184 words/s, in_qsize 7, out_qsize 0\n",
      "2018-10-26 16:13:24,692 : INFO : EPOCH 4 - PROGRESS: at 42.57% examples, 484969 words/s, in_qsize 6, out_qsize 1\n",
      "2018-10-26 16:13:25,717 : INFO : EPOCH 4 - PROGRESS: at 46.50% examples, 485217 words/s, in_qsize 7, out_qsize 0\n",
      "2018-10-26 16:13:26,731 : INFO : EPOCH 4 - PROGRESS: at 50.22% examples, 484300 words/s, in_qsize 7, out_qsize 0\n",
      "2018-10-26 16:13:27,742 : INFO : EPOCH 4 - PROGRESS: at 54.21% examples, 485547 words/s, in_qsize 7, out_qsize 0\n",
      "2018-10-26 16:13:28,748 : INFO : EPOCH 4 - PROGRESS: at 58.29% examples, 488204 words/s, in_qsize 7, out_qsize 0\n",
      "2018-10-26 16:13:29,765 : INFO : EPOCH 4 - PROGRESS: at 62.43% examples, 490215 words/s, in_qsize 7, out_qsize 0\n",
      "2018-10-26 16:13:30,773 : INFO : EPOCH 4 - PROGRESS: at 66.57% examples, 492271 words/s, in_qsize 7, out_qsize 0\n",
      "2018-10-26 16:13:31,780 : INFO : EPOCH 4 - PROGRESS: at 70.66% examples, 493742 words/s, in_qsize 7, out_qsize 0\n",
      "2018-10-26 16:13:32,786 : INFO : EPOCH 4 - PROGRESS: at 74.46% examples, 493169 words/s, in_qsize 7, out_qsize 0\n",
      "2018-10-26 16:13:33,788 : INFO : EPOCH 4 - PROGRESS: at 78.55% examples, 494571 words/s, in_qsize 7, out_qsize 0\n",
      "2018-10-26 16:13:34,795 : INFO : EPOCH 4 - PROGRESS: at 82.67% examples, 495702 words/s, in_qsize 7, out_qsize 0\n",
      "2018-10-26 16:13:35,800 : INFO : EPOCH 4 - PROGRESS: at 86.81% examples, 497071 words/s, in_qsize 7, out_qsize 0\n",
      "2018-10-26 16:13:36,817 : INFO : EPOCH 4 - PROGRESS: at 90.93% examples, 498102 words/s, in_qsize 7, out_qsize 0\n",
      "2018-10-26 16:13:37,829 : INFO : EPOCH 4 - PROGRESS: at 95.06% examples, 498844 words/s, in_qsize 7, out_qsize 0\n",
      "2018-10-26 16:13:38,844 : INFO : EPOCH 4 - PROGRESS: at 99.16% examples, 499758 words/s, in_qsize 7, out_qsize 0\n",
      "2018-10-26 16:13:38,996 : INFO : worker thread finished; awaiting finish of 3 more threads\n",
      "2018-10-26 16:13:39,015 : INFO : worker thread finished; awaiting finish of 2 more threads\n",
      "2018-10-26 16:13:39,019 : INFO : worker thread finished; awaiting finish of 1 more threads\n",
      "2018-10-26 16:13:39,024 : INFO : worker thread finished; awaiting finish of 0 more threads\n",
      "2018-10-26 16:13:39,025 : INFO : EPOCH - 4 : training on 17798082 raw words (12750904 effective words) took 25.5s, 500393 effective words/s\n",
      "2018-10-26 16:13:40,043 : INFO : EPOCH 5 - PROGRESS: at 4.05% examples, 510815 words/s, in_qsize 7, out_qsize 0\n",
      "2018-10-26 16:13:41,061 : INFO : EPOCH 5 - PROGRESS: at 8.28% examples, 518758 words/s, in_qsize 7, out_qsize 0\n",
      "2018-10-26 16:13:42,073 : INFO : EPOCH 5 - PROGRESS: at 12.45% examples, 520183 words/s, in_qsize 7, out_qsize 0\n",
      "2018-10-26 16:13:43,091 : INFO : EPOCH 5 - PROGRESS: at 16.67% examples, 520238 words/s, in_qsize 7, out_qsize 0\n",
      "2018-10-26 16:13:44,111 : INFO : EPOCH 5 - PROGRESS: at 20.84% examples, 519832 words/s, in_qsize 8, out_qsize 0\n",
      "2018-10-26 16:13:45,133 : INFO : EPOCH 5 - PROGRESS: at 24.94% examples, 518424 words/s, in_qsize 7, out_qsize 0\n",
      "2018-10-26 16:13:46,136 : INFO : EPOCH 5 - PROGRESS: at 29.09% examples, 519589 words/s, in_qsize 7, out_qsize 0\n",
      "2018-10-26 16:13:47,141 : INFO : EPOCH 5 - PROGRESS: at 33.32% examples, 520431 words/s, in_qsize 7, out_qsize 0\n",
      "2018-10-26 16:13:48,150 : INFO : EPOCH 5 - PROGRESS: at 37.45% examples, 520861 words/s, in_qsize 7, out_qsize 0\n",
      "2018-10-26 16:13:49,171 : INFO : EPOCH 5 - PROGRESS: at 41.59% examples, 520606 words/s, in_qsize 7, out_qsize 0\n",
      "2018-10-26 16:13:50,173 : INFO : EPOCH 5 - PROGRESS: at 45.60% examples, 520003 words/s, in_qsize 7, out_qsize 0\n",
      "2018-10-26 16:13:51,175 : INFO : EPOCH 5 - PROGRESS: at 49.71% examples, 520708 words/s, in_qsize 7, out_qsize 0\n"
     ]
    },
    {
     "name": "stderr",
     "output_type": "stream",
     "text": [
      "2018-10-26 16:13:52,177 : INFO : EPOCH 5 - PROGRESS: at 53.83% examples, 520756 words/s, in_qsize 7, out_qsize 0\n",
      "2018-10-26 16:13:53,181 : INFO : EPOCH 5 - PROGRESS: at 57.90% examples, 521166 words/s, in_qsize 7, out_qsize 0\n",
      "2018-10-26 16:13:54,181 : INFO : EPOCH 5 - PROGRESS: at 61.97% examples, 521235 words/s, in_qsize 7, out_qsize 0\n",
      "2018-10-26 16:13:55,197 : INFO : EPOCH 5 - PROGRESS: at 66.12% examples, 521203 words/s, in_qsize 7, out_qsize 0\n",
      "2018-10-26 16:13:56,212 : INFO : EPOCH 5 - PROGRESS: at 70.22% examples, 520823 words/s, in_qsize 7, out_qsize 0\n",
      "2018-10-26 16:13:57,224 : INFO : EPOCH 5 - PROGRESS: at 74.40% examples, 521357 words/s, in_qsize 7, out_qsize 0\n",
      "2018-10-26 16:13:58,253 : INFO : EPOCH 5 - PROGRESS: at 78.61% examples, 521345 words/s, in_qsize 7, out_qsize 0\n",
      "2018-10-26 16:13:59,261 : INFO : EPOCH 5 - PROGRESS: at 82.77% examples, 521524 words/s, in_qsize 7, out_qsize 0\n",
      "2018-10-26 16:14:00,265 : INFO : EPOCH 5 - PROGRESS: at 86.81% examples, 521126 words/s, in_qsize 7, out_qsize 0\n",
      "2018-10-26 16:14:01,280 : INFO : EPOCH 5 - PROGRESS: at 90.93% examples, 521138 words/s, in_qsize 6, out_qsize 1\n",
      "2018-10-26 16:14:02,290 : INFO : EPOCH 5 - PROGRESS: at 95.11% examples, 521254 words/s, in_qsize 7, out_qsize 0\n",
      "2018-10-26 16:14:03,300 : INFO : EPOCH 5 - PROGRESS: at 99.22% examples, 521381 words/s, in_qsize 7, out_qsize 0\n",
      "2018-10-26 16:14:03,451 : INFO : worker thread finished; awaiting finish of 3 more threads\n",
      "2018-10-26 16:14:03,459 : INFO : worker thread finished; awaiting finish of 2 more threads\n",
      "2018-10-26 16:14:03,479 : INFO : worker thread finished; awaiting finish of 1 more threads\n",
      "2018-10-26 16:14:03,486 : INFO : worker thread finished; awaiting finish of 0 more threads\n",
      "2018-10-26 16:14:03,487 : INFO : EPOCH - 5 : training on 17798082 raw words (12751079 effective words) took 24.5s, 521471 effective words/s\n",
      "2018-10-26 16:14:03,488 : INFO : training on a 88990410 raw words (63753504 effective words) took 130.3s, 489324 effective words/s\n",
      "2018-10-26 16:14:03,489 : INFO : precomputing L2-norms of word weight vectors\n",
      "2018-10-26 16:14:03,679 : INFO : saving Word2Vec object under 300features_40minwords_10context, separately None\n",
      "2018-10-26 16:14:03,680 : INFO : not storing attribute vectors_norm\n",
      "2018-10-26 16:14:03,681 : INFO : not storing attribute cum_table\n",
      "2018-10-26 16:14:04,131 : INFO : saved 300features_40minwords_10context\n"
     ]
    }
   ],
   "source": [
    "import logging\n",
    "logging.basicConfig(format = '%(asctime)s : %(levelname)s : %(message)s', level = logging.INFO)\n",
    "\n",
    "num_features = 300\n",
    "min_word_count = 40\n",
    "num_workers = 4\n",
    "context = 10\n",
    "downsampling = 1e-3\n",
    "\n",
    "from gensim.models import word2vec\n",
    "print(\"Training model...\")\n",
    "model = word2vec.Word2Vec(sentences, workers = num_workers, size = num_features, min_count = min_word_count, window = context, sample = downsampling)\n",
    "model.init_sims(replace=True)\n",
    "model_name = \"300features_40minwords_10context\"\n",
    "model.save(model_name)"
   ]
  },
  {
   "cell_type": "code",
   "execution_count": 15,
   "metadata": {},
   "outputs": [
    {
     "name": "stderr",
     "output_type": "stream",
     "text": [
      "/usr/lib/python3/dist-packages/ipykernel_launcher.py:1: DeprecationWarning: Call to deprecated `doesnt_match` (Method will be removed in 4.0.0, use self.wv.doesnt_match() instead).\n",
      "  \"\"\"Entry point for launching an IPython kernel.\n",
      "/home/rahul/.local/lib/python3.6/site-packages/gensim/matutils.py:737: FutureWarning: Conversion of the second argument of issubdtype from `int` to `np.signedinteger` is deprecated. In future, it will be treated as `np.int64 == np.dtype(int).type`.\n",
      "  if np.issubdtype(vec.dtype, np.int):\n"
     ]
    },
    {
     "data": {
      "text/plain": [
       "'kitchen'"
      ]
     },
     "execution_count": 15,
     "metadata": {},
     "output_type": "execute_result"
    }
   ],
   "source": [
    "model.doesnt_match(\"man woman child kitchen\".split())"
   ]
  },
  {
   "cell_type": "code",
   "execution_count": 16,
   "metadata": {},
   "outputs": [
    {
     "name": "stderr",
     "output_type": "stream",
     "text": [
      "/usr/lib/python3/dist-packages/ipykernel_launcher.py:1: DeprecationWarning: Call to deprecated `doesnt_match` (Method will be removed in 4.0.0, use self.wv.doesnt_match() instead).\n",
      "  \"\"\"Entry point for launching an IPython kernel.\n",
      "/home/rahul/.local/lib/python3.6/site-packages/gensim/matutils.py:737: FutureWarning: Conversion of the second argument of issubdtype from `int` to `np.signedinteger` is deprecated. In future, it will be treated as `np.int64 == np.dtype(int).type`.\n",
      "  if np.issubdtype(vec.dtype, np.int):\n"
     ]
    },
    {
     "data": {
      "text/plain": [
       "'austria'"
      ]
     },
     "execution_count": 16,
     "metadata": {},
     "output_type": "execute_result"
    }
   ],
   "source": [
    "model.doesnt_match(\"paris berlin london austria\".split())"
   ]
  },
  {
   "cell_type": "code",
   "execution_count": 23,
   "metadata": {},
   "outputs": [
    {
     "name": "stderr",
     "output_type": "stream",
     "text": [
      "/usr/lib/python3/dist-packages/ipykernel_launcher.py:1: DeprecationWarning: Call to deprecated `most_similar` (Method will be removed in 4.0.0, use self.wv.most_similar() instead).\n",
      "  \"\"\"Entry point for launching an IPython kernel.\n",
      "2018-10-26 18:01:25,442 : INFO : precomputing L2-norms of word weight vectors\n",
      "/home/rahul/.local/lib/python3.6/site-packages/gensim/matutils.py:737: FutureWarning: Conversion of the second argument of issubdtype from `int` to `np.signedinteger` is deprecated. In future, it will be treated as `np.int64 == np.dtype(int).type`.\n",
      "  if np.issubdtype(vec.dtype, np.int):\n"
     ]
    },
    {
     "data": {
      "text/plain": [
       "[('woman', 0.6087762713432312),\n",
       " ('lady', 0.5881526470184326),\n",
       " ('lad', 0.5773169994354248),\n",
       " ('farmer', 0.5383074283599854),\n",
       " ('millionaire', 0.5143644213676453),\n",
       " ('guy', 0.5108907222747803),\n",
       " ('monk', 0.5084243416786194),\n",
       " ('person', 0.508341908454895),\n",
       " ('men', 0.5066123008728027),\n",
       " ('soldier', 0.4977167248725891)]"
      ]
     },
     "execution_count": 23,
     "metadata": {},
     "output_type": "execute_result"
    }
   ],
   "source": [
    "model.most_similar(\"man\")"
   ]
  },
  {
   "cell_type": "code",
   "execution_count": 30,
   "metadata": {
    "scrolled": true
   },
   "outputs": [
    {
     "name": "stderr",
     "output_type": "stream",
     "text": [
      "2018-10-26 18:26:42,504 : INFO : loading Word2Vec object from 300features_40minwords_10context\n",
      "2018-10-26 18:26:42,864 : INFO : loading wv recursively from 300features_40minwords_10context.wv.* with mmap=None\n",
      "2018-10-26 18:26:42,865 : INFO : setting ignored attribute vectors_norm to None\n",
      "2018-10-26 18:26:42,866 : INFO : loading vocabulary recursively from 300features_40minwords_10context.vocabulary.* with mmap=None\n",
      "2018-10-26 18:26:42,866 : INFO : loading trainables recursively from 300features_40minwords_10context.trainables.* with mmap=None\n",
      "2018-10-26 18:26:42,867 : INFO : setting ignored attribute cum_table to None\n",
      "2018-10-26 18:26:42,869 : INFO : loaded 300features_40minwords_10context\n"
     ]
    },
    {
     "data": {
      "text/plain": [
       "gensim.models.word2vec.Word2Vec"
      ]
     },
     "execution_count": 30,
     "metadata": {},
     "output_type": "execute_result"
    }
   ],
   "source": [
    "import numpy as np\n",
    "from gensim.models import Word2Vec\n",
    "model = Word2Vec.load(\"300features_40minwords_10context\")\n",
    "\n",
    "type(model)\n"
   ]
  },
  {
   "cell_type": "code",
   "execution_count": null,
   "metadata": {},
   "outputs": [],
   "source": [
    "def makeFeatureVec(words, model, num_features):\n",
    "    "
   ]
  }
 ],
 "metadata": {
  "kernelspec": {
   "display_name": "Python 3",
   "language": "python",
   "name": "python3"
  },
  "language_info": {
   "codemirror_mode": {
    "name": "ipython",
    "version": 3
   },
   "file_extension": ".py",
   "mimetype": "text/x-python",
   "name": "python",
   "nbconvert_exporter": "python",
   "pygments_lexer": "ipython3",
   "version": "3.6.5"
  }
 },
 "nbformat": 4,
 "nbformat_minor": 2
}
